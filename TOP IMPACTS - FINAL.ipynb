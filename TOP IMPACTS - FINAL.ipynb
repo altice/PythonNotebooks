{
 "cells": [
  {
   "cell_type": "markdown",
   "metadata": {},
   "source": [
    "### Create a network\n",
    "\n",
    "Make sure that the proper likelihoods are loading.\n",
    "Figure out the one thing. \n"
   ]
  },
  {
   "cell_type": "code",
   "execution_count": 1,
   "metadata": {
    "collapsed": false
   },
   "outputs": [],
   "source": [
    "from fusion.bayes.net import BayesianNetwork"
   ]
  },
  {
   "cell_type": "code",
   "execution_count": 2,
   "metadata": {
    "collapsed": false
   },
   "outputs": [
    {
     "name": "stderr",
     "output_type": "stream",
     "text": [
      "INFO:root:Netica 5.04 Linux (AF), (C) 1992-2012 Norsys Software Corp.\n",
      "\n",
      "The license being used is +SchragB/DSbox/120,310-6/(security part removed).\n",
      "\n"
     ]
    }
   ],
   "source": [
    "net = BayesianNetwork(\"carbon\")\n",
    "net.open(\"/Users/kulwantsaluja/Development/git/constellation/fusion/model/carbon/carbon_v1.0.neta\",\n",
    "             license=\"+SchragB/DSbox/120,310-6/5894\")"
   ]
  },
  {
   "cell_type": "markdown",
   "metadata": {},
   "source": [
    "### Connect to local mongo instance"
   ]
  },
  {
   "cell_type": "code",
   "execution_count": 3,
   "metadata": {
    "collapsed": false
   },
   "outputs": [
    {
     "data": {
      "text/plain": [
       "Database(MongoClient(host=['localhost:27017'], document_class=dict, tz_aware=False, connect=True), u'neutron')"
      ]
     },
     "execution_count": 3,
     "metadata": {},
     "output_type": "execute_result"
    }
   ],
   "source": [
    "import pymongo\n",
    "mongo_database_name = 'neutron'\n",
    "connection = pymongo.MongoClient('localhost', 27017)\n",
    "db = connection[mongo_database_name]\n",
    "db"
   ]
  },
  {
   "cell_type": "code",
   "execution_count": 4,
   "metadata": {
    "collapsed": false
   },
   "outputs": [],
   "source": [
    "from fusion.model import get_model_json\n",
    "model_name = 'carbon'\n",
    "model_version = '1.0'\n",
    "model_json = get_model_json(model_name, model_version, db)"
   ]
  },
  {
   "cell_type": "markdown",
   "metadata": {},
   "source": [
    "### Before loading a model, you must always supply a set of DEFAULT likelihoods using function below"
   ]
  },
  {
   "cell_type": "code",
   "execution_count": 5,
   "metadata": {
    "collapsed": true
   },
   "outputs": [],
   "source": [
    "from fusion.bayes.bn_json import get_concept_netica_name\n",
    "from fusion.bayes.bn_json import get_netica_name_from_concept\n",
    "\n",
    "def get_likelihood_json(model_name, model_version, model_json):\n",
    "    lh_file_name = '{0}_v{1}_TBLHs.json'.format(model_name, model_version)\n",
    "    print lh_file_name\n",
    "    lh_initial = get_file_as_json(\"fusion.model.{0}\".format(model_name), lh_file_name)\n",
    "\n",
    "    if 'concepts' not in model_json:\n",
    "        msg = \"concepts key does not exist in model_json\"\n",
    "        raise Exception(\"Problem: {0}\".format(msg), sys.exc_info()[2])\n",
    "        \n",
    "    lookup = dict()\n",
    "    for concept in model_json['concepts']:\n",
    "        concept_netica_name = get_concept_netica_name(concept)\n",
    "        lookup[concept_netica_name] = get_netica_name_from_concept(concept)\n",
    "    lh = dict()\n",
    "\n",
    "    for subject_concept_netica_name, values in lh_initial.iteritems():\n",
    "        netica_name = lookup[subject_concept_netica_name]\n",
    "        lh[netica_name] = values[0]\n",
    "    return lh"
   ]
  },
  {
   "cell_type": "markdown",
   "metadata": {},
   "source": [
    "### To  call get likelihood, you must get model json, which is a dictionary to pass in."
   ]
  },
  {
   "cell_type": "code",
   "execution_count": 6,
   "metadata": {
    "collapsed": true
   },
   "outputs": [],
   "source": [
    "from fusion.util import get_file_as_json"
   ]
  },
  {
   "cell_type": "code",
   "execution_count": 7,
   "metadata": {
    "collapsed": false
   },
   "outputs": [
    {
     "name": "stdout",
     "output_type": "stream",
     "text": [
      "carbon_v1.0_TBLHs.json\n"
     ]
    }
   ],
   "source": [
    "# net.load_likelihoods()\n",
    "lh = get_likelihood_json(model_name, model_version, model_json)"
   ]
  },
  {
   "cell_type": "code",
   "execution_count": 8,
   "metadata": {
    "collapsed": false
   },
   "outputs": [],
   "source": [
    "net.load_likelihoods(lh)"
   ]
  },
  {
   "cell_type": "markdown",
   "metadata": {},
   "source": [
    "## Final\n",
    "\n",
    "1. Return only the probability\n",
    "\n",
    "2. Consolidate code by checking if current node is None.\n"
   ]
  },
  {
   "cell_type": "code",
   "execution_count": 9,
   "metadata": {
    "collapsed": true
   },
   "outputs": [],
   "source": [
    "def load_default_network():\n",
    "    global net\n",
    "    global lh\n",
    "    net.clear()\n",
    "    net.load_likelihoods(lh)\n",
    "    \n",
    "def get_probability_trustworthy(nodes_and_likelihood, hypothesis, current_node=None ):\n",
    "    global net\n",
    "    load_default_network()  \n",
    "   \n",
    "    for netica_node_name, likelihoods in nodes_and_likelihood.iteritems():\n",
    "        for likelihood in likelihoods:\n",
    "            if (current_node != netica_node_name) or (current_node is None)   : # if current_node is None\n",
    "                net.load_likelihoods({netica_node_name: likelihood })\n",
    "    d = net.get_prob(name=hypothesis, state_name=\"true\", ndigits=7)\n",
    "    return d"
   ]
  },
  {
   "cell_type": "code",
   "execution_count": 10,
   "metadata": {
    "collapsed": false
   },
   "outputs": [
    {
     "name": "stdout",
     "output_type": "stream",
     "text": [
      "F732776 0.7336965 0.7336966\n",
      "M001080 0.6585826 0.6585827\n",
      "M000417 0.7354684 0.7354686\n",
      "M000266 0.68196 0.6819602\n",
      "M000761 0.6504397 0.65044\n",
      "M000657 0.7887327 0.7887328\n",
      "M001117 0.6778396 0.6778398\n",
      "M001103 0.6776061 0.6776066\n",
      "M000892 0.6727186 0.672718\n",
      "V773272 0.5328115 0.5328119\n",
      "M000978 0.6848081 0.6848083\n",
      "M000321 0.7355977 0.7355977\n",
      "M001204 0.7347211 0.7347212\n",
      "M000278 0.6761585 0.6761589\n",
      "M000267 0.6654164 0.6654168\n",
      "M000133 0.6057404 0.6057407\n",
      "M000070 0.7390659 0.7390659\n",
      "M000712 0.7191423 0.7191427\n",
      "M000846 0.6507756 0.6507758\n",
      "M000372 0.7367068 0.7367069\n",
      "U777448 0.6892861 0.6892864\n",
      "M000691 0.4051121 0.4051123\n",
      "M000799 0.5578898 0.5578896\n",
      "M000860 0.6225991 0.6225992\n",
      "M000841 0.6689803 0.6689805\n",
      "M000844 0.6165701 0.6165704\n",
      "M000777 0.6637568 0.663757\n",
      "M000647 0.6761013 0.6761009\n",
      "M000913 0.6754416 0.6754417\n",
      "M000066 0.6073917 0.6073919\n",
      "M001196 0.6624329 0.6624333\n",
      "M000083 0.6680466 0.6680462\n",
      "M001030 0.6638473 0.6638476\n",
      "R744777 0.6697381 0.6697384\n",
      "M000779 0.6238006 0.6238009\n",
      "M000142 0.54417 0.5441703\n",
      "M001182 0.684771 0.6847712\n",
      "M001019 0.5869792 0.5869794\n",
      "M000187 0.6791958 0.6791961\n",
      "M000721 0.6298227 0.629823\n",
      "M000902 0.6691236 0.6691238\n",
      "M000062 0.6851618 0.6851621\n",
      "M001161 0.6708462 0.6708465\n",
      "M000863 0.6427602 0.6427597\n",
      "M000994 0.667366 0.6673657\n",
      "M001084 0.6079071 0.6079072\n",
      "M000874 0.706692 0.7066914\n",
      "M001044 0.7337949 0.733795\n",
      "M000884 0.6937839 0.693784\n",
      "M000177 0.6590367 0.659037\n",
      "M000078 0.6762412 0.6762415\n",
      "M000968 0.666889 0.6668893\n",
      "M000671 0.6639273 0.6639275\n",
      "M000778 0.4752959 0.4752964\n",
      "M001040 0.6565063 0.6565066\n",
      "M000121 0.7063527 0.7063522\n",
      "M000637 0.6703845 0.6703846\n",
      "I717817 0.7206667 0.7206669\n",
      "M000774 0.5749202 0.5749203\n",
      "M001090 0.6328683 0.6328685\n",
      "M001099 0.6745526 0.6745529\n",
      "M001171 0.6682041 0.6682044\n",
      "M000196 0.6788592 0.6788594\n",
      "M000334 0.6582223 0.6582225\n",
      "M000201 0.6579006 0.657901\n",
      "M000479 0.6754127 0.6754128\n",
      "M001086 0.6246241 0.6246245\n",
      "M000060 0.6173932 0.6173934\n",
      "M000367 0.7397853 0.7397853\n",
      "P000789 0.6390381 0.6390384\n",
      "M001098 0.6775088 0.6775092\n",
      "I791477 0.620849 0.6208493\n",
      "M000829 0.5261252 0.5261247\n",
      "M000636 0.6696107 0.669611\n",
      "M000096 0.667844 0.6678435\n",
      "M000773 0.5615757 0.5615762\n",
      "M001122 0.0880956 0.0880957\n",
      "M000944 0.6739197 0.6739199\n",
      "M000908 0.6718382 0.6718384\n",
      "M001109 0.1304646 0.1304645\n",
      "M000708 0.6766852 0.6766854\n",
      "M000616 0.6483966 0.648397\n",
      "M000941 0.6676663 0.6676659\n",
      "M000126 0.7035768 0.7035767\n",
      "M000246 0.7219067 0.7219068\n",
      "M001041 0.6643234 0.6643237\n",
      "M000079 0.6422637 0.6422641\n",
      "M000788 0.66699 0.6669903\n",
      "M000917 0.6599683 0.6599679\n",
      "M000848 0.6514345 0.6514347\n",
      "M000067 0.6736689 0.6736692\n",
      "P747096 0.6529133 0.6529137\n",
      "M001166 0.6658236 0.6658239\n",
      "M001067 0.7693608 0.7693609\n",
      "M000413 0.7724677 0.7724677\n",
      "M000360 0.7217723 0.7217723\n",
      "M000182 0.6857956 0.6857957\n",
      "M001060 0.7625619 0.762562\n",
      "M000769 0.7793311 0.7793311\n",
      "M000776 0.7721983 0.7721983\n",
      "M000287 0.675422 0.6754222\n",
      "        pid                    netica_node     ratio\n",
      "0   F732776          CommittedToCareer_Eff  1.113964\n",
      "1   F732776          CommittedToSchool_Eff  1.000055\n",
      "0   M001080       CarelessTowardDuties_Eff  0.999968\n",
      "0   M000417          CommittedToCareer_Eff  1.113807\n",
      "1   M000417     ExhibitsIssueOfConcern_Hyp  1.002009\n",
      "2   M000417       CarelessTowardDuties_Eff  1.000000\n",
      "0   M000266     ExhibitsIssueOfConcern_Hyp  1.008811\n",
      "1   M000266          CommittedToCareer_Eff  1.137122\n",
      "2   M000266          CommittedToSchool_Eff  1.000082\n",
      "3   M000266          UnusualAccessTime_Eff  0.922302\n",
      "0   M000761     ExhibitsIssueOfConcern_Hyp  1.001999\n",
      "1   M000761          CommittedToCareer_Eff  1.094205\n",
      "2   M000761          CommittedToSchool_Eff  1.000000\n",
      "3   M000761          UnusualAccessTime_Eff  0.914528\n",
      "0   M000657     ExhibitsIssueOfConcern_Hyp  1.063420\n",
      "1   M000657          CommittedToCareer_Eff  1.093919\n",
      "2   M000657          CommittedToSchool_Eff  1.009739\n",
      "3   M000657       CarelessTowardDuties_Eff  0.999262\n",
      "0   M001117     ExhibitsIssueOfConcern_Hyp  1.001513\n",
      "1   M001117          CommittedToCareer_Eff  1.139686\n",
      "2   M001117          CommittedToSchool_Eff  1.001101\n",
      "3   M001117          UnusualAccessTime_Eff  0.921226\n",
      "0   M001103     ExhibitsIssueOfConcern_Hyp  1.003944\n",
      "1   M001103          CommittedToCareer_Eff  1.139377\n",
      "2   M001103          CommittedToSchool_Eff  1.000000\n",
      "3   M001103       CarelessTowardDuties_Eff  0.998943\n",
      "4   M001103          UnusualAccessTime_Eff  0.921189\n",
      "0   M000892          CommittedToCareer_Eff  1.141519\n",
      "1   M000892     ExhibitsIssueOfConcern_Hyp  1.006884\n",
      "2   M000892       CarelessTowardDuties_Eff  0.999823\n",
      "..      ...                            ...       ...\n",
      "0   M001166          CommittedToCareer_Eff  1.147649\n",
      "1   M001166       CarelessTowardDuties_Eff  0.996368\n",
      "2   M001166          UnusualAccessTime_Eff  0.909512\n",
      "0   M001067     ExhibitsIssueOfConcern_Hyp  1.050924\n",
      "1   M001067          CommittedToCareer_Eff  1.093621\n",
      "2   M001067          CommittedToSchool_Eff  1.001907\n",
      "3   M001067       CarelessTowardDuties_Eff  0.999944\n",
      "0   M000413     ExhibitsIssueOfConcern_Hyp  1.051252\n",
      "1   M000413          CommittedToCareer_Eff  1.097345\n",
      "2   M000413          CommittedToSchool_Eff  1.001181\n",
      "0   M000360          CommittedToCareer_Eff  1.095908\n",
      "1   M000360          CommittedToSchool_Eff  1.000005\n",
      "0   M000182          CommittedToCareer_Eff  1.041484\n",
      "1   M000182          CommittedToSchool_Eff  1.000004\n",
      "2   M000182       CarelessTowardDuties_Eff  0.999841\n",
      "0   M001060          CommittedToCareer_Eff  1.113331\n",
      "1   M001060     ExhibitsIssueOfConcern_Hyp  1.059254\n",
      "2   M001060  ViolatesOrganizationalPol_Eff  0.984742\n",
      "0   M000769          CommittedToCareer_Eff  1.094033\n",
      "1   M000769     ExhibitsIssueOfConcern_Hyp  1.061956\n",
      "2   M000769       CarelessTowardDuties_Eff  0.999914\n",
      "0   M000776     ExhibitsIssueOfConcern_Hyp  1.072514\n",
      "1   M000776          CommittedToCareer_Eff  1.111080\n",
      "2   M000776          CommittedToSchool_Eff  1.000890\n",
      "3   M000776  ViolatesOrganizationalPol_Eff  0.985230\n",
      "4   M000776       CarelessTowardDuties_Eff  0.998700\n",
      "0   M000287          CommittedToCareer_Eff  1.139190\n",
      "1   M000287          CommittedToSchool_Eff  1.000005\n",
      "2   M000287       CarelessTowardDuties_Eff  0.999864\n",
      "3   M000287          UnusualAccessTime_Eff  0.920623\n",
      "\n",
      "[407 rows x 3 columns]\n"
     ]
    }
   ],
   "source": [
    "import pandas as pd\n",
    "from collections import defaultdict\n",
    "cursor = db.assets.find({'security.tenant': 'jpmc'})\n",
    "headings = ['pid', 'netica_node', 'ratio']\n",
    "df = pd.DataFrame(columns=headings)\n",
    "\n",
    "for doc in cursor:\n",
    "    \n",
    "    pid = doc['pid']\n",
    "    load_default_network()\n",
    "    node_and_likelihood = defaultdict(list)\n",
    "   \n",
    "    trustworthy_posterior = doc['model_results']['carbon']['results']['Trustworthy']['states']['true']['posterior']\n",
    "    model_results = doc['model_results']['carbon']['results']\n",
    "    \n",
    "    for key, result in model_results.iteritems():\n",
    "        applied_ingestors =  result['applied_ingestors'] \n",
    "        if len(applied_ingestors) > 0:  \n",
    "            for ingestor in applied_ingestors:   \n",
    "                netica_node_name = ingestor['netica_node_name']\n",
    "                likelihood = ingestor['lh'][0]\n",
    "                node_and_likelihood[netica_node_name].append(likelihood)\n",
    "\n",
    "    list_netica_node_likelihoods = []\n",
    "    \n",
    "    a = get_probability_trustworthy(node_and_likelihood,'Trustworthy_Hyp')\n",
    "    for current_netica_node in node_and_likelihood:\n",
    "        b = get_probability_trustworthy(node_and_likelihood, 'Trustworthy_Hyp', current_netica_node)\n",
    "        list_netica_node_likelihoods.append((b, current_netica_node))\n",
    "    \n",
    "    df_temp = pd.DataFrame(columns=headings)\n",
    "    \n",
    "      \n",
    "    for i, result in enumerate(list_netica_node_likelihoods):\n",
    "        ratio = a/result[0] \n",
    "        netica_node = result[1]\n",
    "        df_temp.loc[i]= [pid, netica_node,ratio]    \n",
    "\n",
    "    df = pd.concat([df, df_temp], axis=0) \n",
    "    print pid,a,trustworthy_posterior\n",
    "print df "
   ]
  },
  {
   "cell_type": "code",
   "execution_count": 11,
   "metadata": {
    "collapsed": false
   },
   "outputs": [
    {
     "data": {
      "text/plain": [
       "array([[<matplotlib.axes.AxesSubplot object at 0x110f88350>,\n",
       "        <matplotlib.axes.AxesSubplot object at 0x11a976590>,\n",
       "        <matplotlib.axes.AxesSubplot object at 0x11035aa10>],\n",
       "       [<matplotlib.axes.AxesSubplot object at 0x110e72d50>,\n",
       "        <matplotlib.axes.AxesSubplot object at 0x1183e6cd0>,\n",
       "        <matplotlib.axes.AxesSubplot object at 0x119e97c50>],\n",
       "       [<matplotlib.axes.AxesSubplot object at 0x116eccc90>,\n",
       "        <matplotlib.axes.AxesSubplot object at 0x119e88590>,\n",
       "        <matplotlib.axes.AxesSubplot object at 0x114b64690>],\n",
       "       [<matplotlib.axes.AxesSubplot object at 0x115e21450>,\n",
       "        <matplotlib.axes.AxesSubplot object at 0x116265cd0>,\n",
       "        <matplotlib.axes.AxesSubplot object at 0x11554b350>]], dtype=object)"
      ]
     },
     "execution_count": 11,
     "metadata": {},
     "output_type": "execute_result"
    },
    {
     "data": {
      "image/png": "[encoded data removed]",
      "text/plain": [
       "<matplotlib.figure.Figure at 0x110f88d90>"
      ]
     },
     "metadata": {},
     "output_type": "display_data"
    }
   ],
   "source": [
    "%matplotlib inline\n",
    "import matplotlib.pyplot as plt\n",
    "df.hist(by=df['netica_node'],figsize=(12,14),bins=7, color='red')"
   ]
  },
  {
   "cell_type": "code",
   "execution_count": 12,
   "metadata": {
    "collapsed": true
   },
   "outputs": [],
   "source": [
    "df.to_csv('top_impacts.csv')"
   ]
  },
  {
   "cell_type": "code",
   "execution_count": 13,
   "metadata": {
    "collapsed": false
   },
   "outputs": [
    {
     "data": {
      "text/plain": [
       "Int64Index([0, 1, 0, 0, 1, 2, 0, 1, 2, 3,\n",
       "            ...\n",
       "            2, 0, 1, 2, 3, 4, 0, 1, 2, 3],\n",
       "           dtype='int64', length=407)"
      ]
     },
     "execution_count": 13,
     "metadata": {},
     "output_type": "execute_result"
    }
   ],
   "source": [
    "df.index"
   ]
  },
  {
   "cell_type": "code",
   "execution_count": 14,
   "metadata": {
    "collapsed": false
   },
   "outputs": [],
   "source": [
    "df.reset_index()\n",
    "\n",
    "\n",
    "df.drop('index', inplace=True)"
   ]
  },
  {
   "cell_type": "code",
   "execution_count": 15,
   "metadata": {
    "collapsed": false
   },
   "outputs": [
    {
     "data": {
      "text/plain": [
       "<bound method DataFrame.reset_index of         pid                    netica_node     ratio\n",
       "0   F732776          CommittedToCareer_Eff  1.113964\n",
       "1   F732776          CommittedToSchool_Eff  1.000055\n",
       "0   M001080       CarelessTowardDuties_Eff  0.999968\n",
       "0   M000417          CommittedToCareer_Eff  1.113807\n",
       "1   M000417     ExhibitsIssueOfConcern_Hyp  1.002009\n",
       "2   M000417       CarelessTowardDuties_Eff  1.000000\n",
       "0   M000266     ExhibitsIssueOfConcern_Hyp  1.008811\n",
       "1   M000266          CommittedToCareer_Eff  1.137122\n",
       "2   M000266          CommittedToSchool_Eff  1.000082\n",
       "3   M000266          UnusualAccessTime_Eff  0.922302\n",
       "0   M000761     ExhibitsIssueOfConcern_Hyp  1.001999\n",
       "1   M000761          CommittedToCareer_Eff  1.094205\n",
       "2   M000761          CommittedToSchool_Eff  1.000000\n",
       "3   M000761          UnusualAccessTime_Eff  0.914528\n",
       "0   M000657     ExhibitsIssueOfConcern_Hyp  1.063420\n",
       "1   M000657          CommittedToCareer_Eff  1.093919\n",
       "2   M000657          CommittedToSchool_Eff  1.009739\n",
       "3   M000657       CarelessTowardDuties_Eff  0.999262\n",
       "0   M001117     ExhibitsIssueOfConcern_Hyp  1.001513\n",
       "1   M001117          CommittedToCareer_Eff  1.139686\n",
       "2   M001117          CommittedToSchool_Eff  1.001101\n",
       "3   M001117          UnusualAccessTime_Eff  0.921226\n",
       "0   M001103     ExhibitsIssueOfConcern_Hyp  1.003944\n",
       "1   M001103          CommittedToCareer_Eff  1.139377\n",
       "2   M001103          CommittedToSchool_Eff  1.000000\n",
       "3   M001103       CarelessTowardDuties_Eff  0.998943\n",
       "4   M001103          UnusualAccessTime_Eff  0.921189\n",
       "0   M000892          CommittedToCareer_Eff  1.141519\n",
       "1   M000892     ExhibitsIssueOfConcern_Hyp  1.006884\n",
       "2   M000892       CarelessTowardDuties_Eff  0.999823\n",
       "..      ...                            ...       ...\n",
       "0   M001166          CommittedToCareer_Eff  1.147649\n",
       "1   M001166       CarelessTowardDuties_Eff  0.996368\n",
       "2   M001166          UnusualAccessTime_Eff  0.909512\n",
       "0   M001067     ExhibitsIssueOfConcern_Hyp  1.050924\n",
       "1   M001067          CommittedToCareer_Eff  1.093621\n",
       "2   M001067          CommittedToSchool_Eff  1.001907\n",
       "3   M001067       CarelessTowardDuties_Eff  0.999944\n",
       "0   M000413     ExhibitsIssueOfConcern_Hyp  1.051252\n",
       "1   M000413          CommittedToCareer_Eff  1.097345\n",
       "2   M000413          CommittedToSchool_Eff  1.001181\n",
       "0   M000360          CommittedToCareer_Eff  1.095908\n",
       "1   M000360          CommittedToSchool_Eff  1.000005\n",
       "0   M000182          CommittedToCareer_Eff  1.041484\n",
       "1   M000182          CommittedToSchool_Eff  1.000004\n",
       "2   M000182       CarelessTowardDuties_Eff  0.999841\n",
       "0   M001060          CommittedToCareer_Eff  1.113331\n",
       "1   M001060     ExhibitsIssueOfConcern_Hyp  1.059254\n",
       "2   M001060  ViolatesOrganizationalPol_Eff  0.984742\n",
       "0   M000769          CommittedToCareer_Eff  1.094033\n",
       "1   M000769     ExhibitsIssueOfConcern_Hyp  1.061956\n",
       "2   M000769       CarelessTowardDuties_Eff  0.999914\n",
       "0   M000776     ExhibitsIssueOfConcern_Hyp  1.072514\n",
       "1   M000776          CommittedToCareer_Eff  1.111080\n",
       "2   M000776          CommittedToSchool_Eff  1.000890\n",
       "3   M000776  ViolatesOrganizationalPol_Eff  0.985230\n",
       "4   M000776       CarelessTowardDuties_Eff  0.998700\n",
       "0   M000287          CommittedToCareer_Eff  1.139190\n",
       "1   M000287          CommittedToSchool_Eff  1.000005\n",
       "2   M000287       CarelessTowardDuties_Eff  0.999864\n",
       "3   M000287          UnusualAccessTime_Eff  0.920623\n",
       "\n",
       "[407 rows x 3 columns]>"
      ]
     },
     "execution_count": 15,
     "metadata": {},
     "output_type": "execute_result"
    }
   ],
   "source": [
    "df.reset_index"
   ]
  },
  {
   "cell_type": "code",
   "execution_count": 16,
   "metadata": {
    "collapsed": false
   },
   "outputs": [
    {
     "data": {
      "text/plain": [
       "pid             object\n",
       "netica_node     object\n",
       "ratio          float64\n",
       "dtype: object"
      ]
     },
     "execution_count": 16,
     "metadata": {},
     "output_type": "execute_result"
    }
   ],
   "source": [
    "df.dtypes"
   ]
  },
  {
   "cell_type": "code",
   "execution_count": 17,
   "metadata": {
    "collapsed": false
   },
   "outputs": [
    {
     "data": {
      "text/plain": [
       "(407, 3)"
      ]
     },
     "execution_count": 17,
     "metadata": {},
     "output_type": "execute_result"
    }
   ],
   "source": [
    "df.shape"
   ]
  },
  {
   "cell_type": "code",
   "execution_count": 18,
   "metadata": {
    "collapsed": false
   },
   "outputs": [
    {
     "data": {
      "text/plain": [
       "CommittedToCareer_Eff            100\n",
       "UnusualAccessTime_Eff             82\n",
       "CommittedToSchool_Eff             79\n",
       "ExhibitsIssueOfConcern_Hyp        57\n",
       "CarelessTowardDuties_Eff          45\n",
       "ViolatesOrganizationalPol_Eff     32\n",
       "CommitsCrime_Eff                   4\n",
       "UnusualPrintPageCount_Eff          4\n",
       "CommitsFraud_Eff                   2\n",
       "UnauthInsideITInfAccess_Eff        1\n",
       "ExhibitsInfoHandlgConcern_Hyp      1\n",
       "Name: netica_node, dtype: int64"
      ]
     },
     "execution_count": 18,
     "metadata": {},
     "output_type": "execute_result"
    }
   ],
   "source": [
    "df['netica_node'].value_counts()"
   ]
  },
  {
   "cell_type": "code",
   "execution_count": 19,
   "metadata": {
    "collapsed": false
   },
   "outputs": [
    {
     "data": {
      "text/plain": [
       "<pandas.core.groupby.DataFrameGroupBy object at 0x1155389d0>"
      ]
     },
     "execution_count": 19,
     "metadata": {},
     "output_type": "execute_result"
    }
   ],
   "source": [
    "df.groupby('netica_node')"
   ]
  },
  {
   "cell_type": "code",
   "execution_count": 20,
   "metadata": {
    "collapsed": false
   },
   "outputs": [
    {
     "data": {
      "text/plain": [
       "netica_node\n",
       "UnusualAccessTime_Eff            7.536033\n",
       "ViolatesOrganizationalPol_Eff    3.169204\n",
       "UnusualPrintPageCount_Eff        0.637750\n",
       "ExhibitsInfoHandlgConcern_Hyp    0.401372\n",
       "CommitsFraud_Eff                 0.288345\n",
       "CommitsCrime_Eff                 0.242780\n",
       "CarelessTowardDuties_Eff         0.225216\n",
       "UnauthInsideITInfAccess_Eff      0.153707\n",
       "dtype: float64"
      ]
     },
     "execution_count": 20,
     "metadata": {},
     "output_type": "execute_result"
    }
   ],
   "source": [
    "df = df[df['ratio'] < 1.0]\n",
    "g = df.groupby('netica_node')\n",
    "((1.- g.ratio.mean()) * g.netica_node.count()).sort_values(ascending=False)"
   ]
  },
  {
   "cell_type": "code",
   "execution_count": null,
   "metadata": {
    "collapsed": true
   },
   "outputs": [],
   "source": []
  }
 ],
 "metadata": {
  "kernelspec": {
   "display_name": "Python 2",
   "language": "python",
   "name": "python2"
  },
  "language_info": {
   "codemirror_mode": {
    "name": "ipython",
    "version": 2
   },
   "file_extension": ".py",
   "mimetype": "text/x-python",
   "name": "python",
   "nbconvert_exporter": "python",
   "pygments_lexer": "ipython2",
   "version": "2.7.10"
  }
 },
 "nbformat": 4,
 "nbformat_minor": 2
}
