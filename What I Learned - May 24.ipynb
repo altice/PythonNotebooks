{
 "cells": [
  {
   "cell_type": "markdown",
   "metadata": {},
   "source": [
    "# Mongo\n",
    "\n",
    "1. mongo\n",
    "2. show dbs\n",
    "3. use neutron"
   ]
  },
  {
   "cell_type": "markdown",
   "metadata": {},
   "source": [
    "Last login: Wed May 24 12:56:33 on ttys002\n",
    "charm2:~ kulwantsaluja$ mongo\n",
    "MongoDB shell version v3.4.0\n",
    "connecting to: mongodb://127.0.0.1:27017\n",
    "MongoDB server version: 3.4.0\n",
    "Server has startup warnings:\n",
    "2017-05-19T11:04:18.965-0400 I CONTROL  [initandlisten]\n",
    "2017-05-19T11:04:18.965-0400 I CONTROL  [initandlisten] ** WARNING: Access control is not enabled for the database.\n",
    "2017-05-19T11:04:18.965-0400 I CONTROL  [initandlisten] **          Read and write access to data and configuration is unrestricted.\n",
    "2017-05-19T11:04:18.965-0400 I CONTROL  [initandlisten]\n",
    "> show dbs\n",
    "admin    0.000GB\n",
    "castle   0.028GB\n",
    "fusion   0.025GB\n",
    "local    0.000GB\n",
    "neutron  2.001GB\n",
    "> use neutron\n",
    "switched to db neutron\n",
    ">\n"
   ]
  },
  {
   "cell_type": "markdown",
   "metadata": {},
   "source": [
    "# Unix\n",
    "\n",
    "1. cat shows contents"
   ]
  },
  {
   "cell_type": "markdown",
   "metadata": {},
   "source": [
    "# UNIX - Sym Link\n",
    "\n",
    "1. sudo ln -s ~/Development/git/fusion/constellation.configuration/constellation/fusion.conf fusion.conf"
   ]
  },
  {
   "cell_type": "markdown",
   "metadata": {},
   "source": [
    "#  Python\n",
    "\n",
    "This is what creates a .pth file so that when Python imports the things\n",
    "\n",
    "1. pip list\n",
    "2. pip install -e\n",
    "3. pip install -e ~/Development/git/fusion/constellation.fusion\n",
    "4. .'/Library/Python/2.7/site-packages',\n",
    "\n",
    "https://stackoverflow.com/questions/122327/how-do-i-find-the-location-of-my-python-site-packages-directory\n"
   ]
  },
  {
   "cell_type": "code",
   "execution_count": 3,
   "metadata": {
    "collapsed": false
   },
   "outputs": [
    {
     "name": "stdout",
     "output_type": "stream",
     "text": [
      "['', '/System/Library/Frameworks/Python.framework/Versions/2.7/lib/python27.zip', '/System/Library/Frameworks/Python.framework/Versions/2.7/lib/python2.7', '/System/Library/Frameworks/Python.framework/Versions/2.7/lib/python2.7/plat-darwin', '/System/Library/Frameworks/Python.framework/Versions/2.7/lib/python2.7/plat-mac', '/System/Library/Frameworks/Python.framework/Versions/2.7/lib/python2.7/plat-mac/lib-scriptpackages', '/System/Library/Frameworks/Python.framework/Versions/2.7/lib/python2.7/lib-tk', '/System/Library/Frameworks/Python.framework/Versions/2.7/lib/python2.7/lib-old', '/System/Library/Frameworks/Python.framework/Versions/2.7/lib/python2.7/lib-dynload', '/Library/Python/2.7/site-packages', '/System/Library/Frameworks/Python.framework/Versions/2.7/Extras/lib/python', '/System/Library/Frameworks/Python.framework/Versions/2.7/Extras/lib/python/PyObjC', '/Library/Python/2.7/site-packages/PySimpleSOAP-1.10-py2.7.egg', '/Users/kulwantsaluja/Development/git/fusion/constellation.da', '/Users/kulwantsaluja/Development/git/fusion/constellation.fusion', '/Library/Python/2.7/site-packages/IPython/extensions', '/Users/kulwantsaluja/.ipython']\n"
     ]
    }
   ],
   "source": [
    "import sys\n",
    "print sys.path"
   ]
  },
  {
   "cell_type": "code",
   "execution_count": 5,
   "metadata": {
    "collapsed": false
   },
   "outputs": [
    {
     "data": {
      "text/plain": [
       "['/System/Library/Frameworks/Python.framework/Versions/2.7/lib/python2.7/site-packages',\n",
       " '/System/Library/Frameworks/Python.framework/Versions/2.7/lib/site-python',\n",
       " '/Library/Python/2.7/site-packages']"
      ]
     },
     "execution_count": 5,
     "metadata": {},
     "output_type": "execute_result"
    }
   ],
   "source": [
    "import site\n",
    "site.getsitepackages()"
   ]
  },
  {
   "cell_type": "code",
   "execution_count": null,
   "metadata": {
    "collapsed": true
   },
   "outputs": [],
   "source": []
  }
 ],
 "metadata": {
  "kernelspec": {
   "display_name": "Python 2",
   "language": "python",
   "name": "python2"
  },
  "language_info": {
   "codemirror_mode": {
    "name": "ipython",
    "version": 2
   },
   "file_extension": ".py",
   "mimetype": "text/x-python",
   "name": "python",
   "nbconvert_exporter": "python",
   "pygments_lexer": "ipython2",
   "version": "2.7.10"
  }
 },
 "nbformat": 4,
 "nbformat_minor": 2
}
