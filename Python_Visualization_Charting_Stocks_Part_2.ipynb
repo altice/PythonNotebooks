{
 "cells": [
  {
   "cell_type": "code",
   "execution_count": 7,
   "metadata": {
    "collapsed": false
   },
   "outputs": [],
   "source": [
    "import urllib2\n",
    "import time\n",
    "import datetime\n",
    "import numpy as np\n",
    "import matplotlib.pyplot as plt\n",
    "import matplotlib.ticker as mticker\n",
    "import matplotlib.dates as mdates\n",
    "from matplotlib.finance import candlestick_ohlc\n",
    "import matplotlib\n",
    "import pylab\n",
    "matplotlib.rcParams.update({'font.size': 9})\n",
    "import time\n",
    "import datetime\n",
    "import numpy as np\n",
    "import matplotlib.pyplot as plt\n",
    "import matplotlib.ticker as mticker\n",
    "import matplotlib.dates as mdates\n",
    "from matplotlib.finance import candlestick_ohlc\n",
    "import matplotlib\n",
    "import pylab\n",
    "matplotlib.rcParams.update({'font.size': 9})"
   ]
  },
  {
   "cell_type": "code",
   "execution_count": 8,
   "metadata": {
    "collapsed": true
   },
   "outputs": [],
   "source": [
    "stock_to_pull = 'AAPL'"
   ]
  },
  {
   "cell_type": "code",
   "execution_count": null,
   "metadata": {
    "collapsed": true
   },
   "outputs": [],
   "source": [
    "def pullData(stock):\n",
    "    try:\n",
    "        fileLine = stock + '.txt'\n",
    "        urlToVisit ='http://chartapi.finance.yahoo.com/instrument/1.0' \n",
    "            + stock + '/chartdata:type=quote;range=1y/csv'\n",
    "        sourceCode = urlib2.urlopen(urlToVisit).read()\n",
    "        splitSource = sourceCode.split('\\n')\n",
    "        for eachLine in splitSource:\n",
    "            splitLine = eachLine.split(',')\n",
    "            if len(splitLine) ==6:\n",
    "                if 'values' not in eachLine:\n",
    "                    saveFile = open(fileLine, 'a')\n",
    "                    lineToWrite = eachLine+ '\\n'\n",
    "                    saveFile.write(lineToWrite)\n",
    "            print 'Pulled', stock\n",
    "            print 'sleeping'\n",
    "            time.sleep(5)\n",
    "\n",
    "        except Exception, e:\n",
    "            print ('Main Loop'), str('e')\n",
    "            \n",
    "pullData(stockToPull)\n",
    "    "
   ]
  }
 ],
 "metadata": {
  "kernelspec": {
   "display_name": "Python 2",
   "language": "python",
   "name": "python2"
  },
  "language_info": {
   "codemirror_mode": {
    "name": "ipython",
    "version": 2
   },
   "file_extension": ".py",
   "mimetype": "text/x-python",
   "name": "python",
   "nbconvert_exporter": "python",
   "pygments_lexer": "ipython2",
   "version": "2.7.10"
  }
 },
 "nbformat": 4,
 "nbformat_minor": 2
}
