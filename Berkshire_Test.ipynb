{
 "cells": [
  {
   "cell_type": "code",
   "execution_count": 1,
   "metadata": {
    "collapsed": true
   },
   "outputs": [],
   "source": [
    "import pandas as pd\n",
    "import numpy as np"
   ]
  },
  {
   "cell_type": "code",
   "execution_count": 2,
   "metadata": {
    "collapsed": true
   },
   "outputs": [],
   "source": [
    "berkshire = pd.read_csv('berkshire.csv')"
   ]
  },
  {
   "cell_type": "code",
   "execution_count": 3,
   "metadata": {
    "collapsed": false
   },
   "outputs": [
    {
     "data": {
      "text/html": [
       "<div>\n",
       "<table border=\"1\" class=\"dataframe\">\n",
       "  <thead>\n",
       "    <tr style=\"text-align: right;\">\n",
       "      <th></th>\n",
       "      <th>PERMNO</th>\n",
       "      <th>disc_date</th>\n",
       "      <th>fdate</th>\n",
       "      <th>change</th>\n",
       "      <th>shares</th>\n",
       "      <th>category</th>\n",
       "      <th>Unnamed: 6</th>\n",
       "      <th>1</th>\n",
       "      <th>new position: did not hold position in previous quarter</th>\n",
       "      <th>Unnamed: 9</th>\n",
       "      <th>Unnamed: 10</th>\n",
       "      <th>Unnamed: 11</th>\n",
       "    </tr>\n",
       "  </thead>\n",
       "  <tbody>\n",
       "    <tr>\n",
       "      <th>0</th>\n",
       "      <td>11308.0</td>\n",
       "      <td>20000515.0</td>\n",
       "      <td>20000331.0</td>\n",
       "      <td>0.0</td>\n",
       "      <td>200000000.0</td>\n",
       "      <td>NaN</td>\n",
       "      <td>NaN</td>\n",
       "      <td>2.0</td>\n",
       "      <td>increase: held position in previous quarter an...</td>\n",
       "      <td>NaN</td>\n",
       "      <td>NaN</td>\n",
       "      <td>NaN</td>\n",
       "    </tr>\n",
       "    <tr>\n",
       "      <th>1</th>\n",
       "      <td>12036.0</td>\n",
       "      <td>20000515.0</td>\n",
       "      <td>20000331.0</td>\n",
       "      <td>4706200.0</td>\n",
       "      <td>7340700.0</td>\n",
       "      <td>NaN</td>\n",
       "      <td>NaN</td>\n",
       "      <td>3.0</td>\n",
       "      <td>no change: did not change position</td>\n",
       "      <td>NaN</td>\n",
       "      <td>NaN</td>\n",
       "      <td>NaN</td>\n",
       "    </tr>\n",
       "    <tr>\n",
       "      <th>2</th>\n",
       "      <td>16424.0</td>\n",
       "      <td>20000515.0</td>\n",
       "      <td>20000331.0</td>\n",
       "      <td>0.0</td>\n",
       "      <td>96000000.0</td>\n",
       "      <td>NaN</td>\n",
       "      <td>NaN</td>\n",
       "      <td>4.0</td>\n",
       "      <td>decrease: decreased position, but still mainta...</td>\n",
       "      <td>NaN</td>\n",
       "      <td>NaN</td>\n",
       "      <td>NaN</td>\n",
       "    </tr>\n",
       "    <tr>\n",
       "      <th>3</th>\n",
       "      <td>32379.0</td>\n",
       "      <td>20000515.0</td>\n",
       "      <td>20000331.0</td>\n",
       "      <td>2222500.0</td>\n",
       "      <td>6480700.0</td>\n",
       "      <td>NaN</td>\n",
       "      <td>NaN</td>\n",
       "      <td>5.0</td>\n",
       "      <td>liquidation: sold all holdings in security</td>\n",
       "      <td>NaN</td>\n",
       "      <td>NaN</td>\n",
       "      <td>NaN</td>\n",
       "    </tr>\n",
       "    <tr>\n",
       "      <th>4</th>\n",
       "      <td>38906.0</td>\n",
       "      <td>20000515.0</td>\n",
       "      <td>20000331.0</td>\n",
       "      <td>0.0</td>\n",
       "      <td>5703087.0</td>\n",
       "      <td>NaN</td>\n",
       "      <td>NaN</td>\n",
       "      <td>NaN</td>\n",
       "      <td>NaN</td>\n",
       "      <td>NaN</td>\n",
       "      <td>NaN</td>\n",
       "      <td>NaN</td>\n",
       "    </tr>\n",
       "  </tbody>\n",
       "</table>\n",
       "</div>"
      ],
      "text/plain": [
       "    PERMNO   disc_date       fdate     change       shares  category  \\\n",
       "0  11308.0  20000515.0  20000331.0        0.0  200000000.0       NaN   \n",
       "1  12036.0  20000515.0  20000331.0  4706200.0    7340700.0       NaN   \n",
       "2  16424.0  20000515.0  20000331.0        0.0   96000000.0       NaN   \n",
       "3  32379.0  20000515.0  20000331.0  2222500.0    6480700.0       NaN   \n",
       "4  38906.0  20000515.0  20000331.0        0.0    5703087.0       NaN   \n",
       "\n",
       "   Unnamed: 6    1 new position: did not hold position in previous quarter   \\\n",
       "0         NaN  2.0  increase: held position in previous quarter an...         \n",
       "1         NaN  3.0                 no change: did not change position         \n",
       "2         NaN  4.0  decrease: decreased position, but still mainta...         \n",
       "3         NaN  5.0         liquidation: sold all holdings in security         \n",
       "4         NaN  NaN                                                NaN         \n",
       "\n",
       "   Unnamed: 9  Unnamed: 10  Unnamed: 11  \n",
       "0         NaN          NaN          NaN  \n",
       "1         NaN          NaN          NaN  \n",
       "2         NaN          NaN          NaN  \n",
       "3         NaN          NaN          NaN  \n",
       "4         NaN          NaN          NaN  "
      ]
     },
     "execution_count": 3,
     "metadata": {},
     "output_type": "execute_result"
    }
   ],
   "source": [
    "berkshire.head()"
   ]
  },
  {
   "cell_type": "code",
   "execution_count": null,
   "metadata": {
    "collapsed": true
   },
   "outputs": [],
   "source": []
  }
 ],
 "metadata": {
  "kernelspec": {
   "display_name": "Python 2",
   "language": "python",
   "name": "python2"
  },
  "language_info": {
   "codemirror_mode": {
    "name": "ipython",
    "version": 2
   },
   "file_extension": ".py",
   "mimetype": "text/x-python",
   "name": "python",
   "nbconvert_exporter": "python",
   "pygments_lexer": "ipython2",
   "version": "2.7.10"
  }
 },
 "nbformat": 4,
 "nbformat_minor": 2
}
