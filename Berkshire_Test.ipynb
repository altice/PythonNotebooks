{
 "cells": [
  {
   "cell_type": "markdown",
   "metadata": {},
   "source": [
    "Links Used\n",
    "https://chrisalbon.com/python/pandas_dropping_column_and_rows.html\n",
    "https://pythonprogramming.net/data-analysis-python-pandas-tutorial-introduction/"
   ]
  },
  {
   "cell_type": "code",
   "execution_count": 19,
   "metadata": {
    "collapsed": true
   },
   "outputs": [],
   "source": [
    "import pandas as pd\n",
    "import numpy as np\n",
    "import matplotlib.pyplot as plt\n",
    "from matplotlib import style\n",
    "\n",
    "style.use('fivethirtyeight')"
   ]
  },
  {
   "cell_type": "code",
   "execution_count": 2,
   "metadata": {
    "collapsed": true
   },
   "outputs": [],
   "source": [
    "berkshire = pd.read_csv('berkshire.csv')"
   ]
  },
  {
   "cell_type": "code",
   "execution_count": 3,
   "metadata": {
    "collapsed": false
   },
   "outputs": [
    {
     "data": {
      "text/html": [
       "<div>\n",
       "<table border=\"1\" class=\"dataframe\">\n",
       "  <thead>\n",
       "    <tr style=\"text-align: right;\">\n",
       "      <th></th>\n",
       "      <th>PERMNO</th>\n",
       "      <th>disc_date</th>\n",
       "      <th>fdate</th>\n",
       "      <th>change</th>\n",
       "      <th>shares</th>\n",
       "      <th>category</th>\n",
       "      <th>Unnamed: 6</th>\n",
       "      <th>1</th>\n",
       "      <th>new position: did not hold position in previous quarter</th>\n",
       "      <th>Unnamed: 9</th>\n",
       "      <th>Unnamed: 10</th>\n",
       "      <th>Unnamed: 11</th>\n",
       "    </tr>\n",
       "  </thead>\n",
       "  <tbody>\n",
       "    <tr>\n",
       "      <th>0</th>\n",
       "      <td>11308.0</td>\n",
       "      <td>20000515.0</td>\n",
       "      <td>20000331.0</td>\n",
       "      <td>0.0</td>\n",
       "      <td>200000000.0</td>\n",
       "      <td>NaN</td>\n",
       "      <td>NaN</td>\n",
       "      <td>2.0</td>\n",
       "      <td>increase: held position in previous quarter an...</td>\n",
       "      <td>NaN</td>\n",
       "      <td>NaN</td>\n",
       "      <td>NaN</td>\n",
       "    </tr>\n",
       "    <tr>\n",
       "      <th>1</th>\n",
       "      <td>12036.0</td>\n",
       "      <td>20000515.0</td>\n",
       "      <td>20000331.0</td>\n",
       "      <td>4706200.0</td>\n",
       "      <td>7340700.0</td>\n",
       "      <td>NaN</td>\n",
       "      <td>NaN</td>\n",
       "      <td>3.0</td>\n",
       "      <td>no change: did not change position</td>\n",
       "      <td>NaN</td>\n",
       "      <td>NaN</td>\n",
       "      <td>NaN</td>\n",
       "    </tr>\n",
       "    <tr>\n",
       "      <th>2</th>\n",
       "      <td>16424.0</td>\n",
       "      <td>20000515.0</td>\n",
       "      <td>20000331.0</td>\n",
       "      <td>0.0</td>\n",
       "      <td>96000000.0</td>\n",
       "      <td>NaN</td>\n",
       "      <td>NaN</td>\n",
       "      <td>4.0</td>\n",
       "      <td>decrease: decreased position, but still mainta...</td>\n",
       "      <td>NaN</td>\n",
       "      <td>NaN</td>\n",
       "      <td>NaN</td>\n",
       "    </tr>\n",
       "    <tr>\n",
       "      <th>3</th>\n",
       "      <td>32379.0</td>\n",
       "      <td>20000515.0</td>\n",
       "      <td>20000331.0</td>\n",
       "      <td>2222500.0</td>\n",
       "      <td>6480700.0</td>\n",
       "      <td>NaN</td>\n",
       "      <td>NaN</td>\n",
       "      <td>5.0</td>\n",
       "      <td>liquidation: sold all holdings in security</td>\n",
       "      <td>NaN</td>\n",
       "      <td>NaN</td>\n",
       "      <td>NaN</td>\n",
       "    </tr>\n",
       "    <tr>\n",
       "      <th>4</th>\n",
       "      <td>38906.0</td>\n",
       "      <td>20000515.0</td>\n",
       "      <td>20000331.0</td>\n",
       "      <td>0.0</td>\n",
       "      <td>5703087.0</td>\n",
       "      <td>NaN</td>\n",
       "      <td>NaN</td>\n",
       "      <td>NaN</td>\n",
       "      <td>NaN</td>\n",
       "      <td>NaN</td>\n",
       "      <td>NaN</td>\n",
       "      <td>NaN</td>\n",
       "    </tr>\n",
       "  </tbody>\n",
       "</table>\n",
       "</div>"
      ],
      "text/plain": [
       "    PERMNO   disc_date       fdate     change       shares  category  \\\n",
       "0  11308.0  20000515.0  20000331.0        0.0  200000000.0       NaN   \n",
       "1  12036.0  20000515.0  20000331.0  4706200.0    7340700.0       NaN   \n",
       "2  16424.0  20000515.0  20000331.0        0.0   96000000.0       NaN   \n",
       "3  32379.0  20000515.0  20000331.0  2222500.0    6480700.0       NaN   \n",
       "4  38906.0  20000515.0  20000331.0        0.0    5703087.0       NaN   \n",
       "\n",
       "   Unnamed: 6    1 new position: did not hold position in previous quarter   \\\n",
       "0         NaN  2.0  increase: held position in previous quarter an...         \n",
       "1         NaN  3.0                 no change: did not change position         \n",
       "2         NaN  4.0  decrease: decreased position, but still mainta...         \n",
       "3         NaN  5.0         liquidation: sold all holdings in security         \n",
       "4         NaN  NaN                                                NaN         \n",
       "\n",
       "   Unnamed: 9  Unnamed: 10  Unnamed: 11  \n",
       "0         NaN          NaN          NaN  \n",
       "1         NaN          NaN          NaN  \n",
       "2         NaN          NaN          NaN  \n",
       "3         NaN          NaN          NaN  \n",
       "4         NaN          NaN          NaN  "
      ]
     },
     "execution_count": 3,
     "metadata": {},
     "output_type": "execute_result"
    }
   ],
   "source": [
    "berkshire.head()"
   ]
  },
  {
   "cell_type": "code",
   "execution_count": 4,
   "metadata": {
    "collapsed": false
   },
   "outputs": [
    {
     "data": {
      "text/html": [
       "<div>\n",
       "<table border=\"1\" class=\"dataframe\">\n",
       "  <thead>\n",
       "    <tr style=\"text-align: right;\">\n",
       "      <th></th>\n",
       "      <th>PERMNO</th>\n",
       "      <th>disc_date</th>\n",
       "      <th>fdate</th>\n",
       "      <th>change</th>\n",
       "      <th>shares</th>\n",
       "      <th>category</th>\n",
       "      <th>Unnamed: 6</th>\n",
       "      <th>1</th>\n",
       "      <th>Unnamed: 9</th>\n",
       "      <th>Unnamed: 10</th>\n",
       "      <th>Unnamed: 11</th>\n",
       "    </tr>\n",
       "  </thead>\n",
       "  <tbody>\n",
       "    <tr>\n",
       "      <th>count</th>\n",
       "      <td>2129.000000</td>\n",
       "      <td>2.129000e+03</td>\n",
       "      <td>2.129000e+03</td>\n",
       "      <td>2.129000e+03</td>\n",
       "      <td>2.129000e+03</td>\n",
       "      <td>0.0</td>\n",
       "      <td>0.0</td>\n",
       "      <td>4.000000</td>\n",
       "      <td>0.0</td>\n",
       "      <td>0.0</td>\n",
       "      <td>0.0</td>\n",
       "    </tr>\n",
       "    <tr>\n",
       "      <th>mean</th>\n",
       "      <td>56265.484265</td>\n",
       "      <td>2.008397e+07</td>\n",
       "      <td>2.008160e+07</td>\n",
       "      <td>1.010824e+06</td>\n",
       "      <td>3.158856e+07</td>\n",
       "      <td>NaN</td>\n",
       "      <td>NaN</td>\n",
       "      <td>3.500000</td>\n",
       "      <td>NaN</td>\n",
       "      <td>NaN</td>\n",
       "      <td>NaN</td>\n",
       "    </tr>\n",
       "    <tr>\n",
       "      <th>std</th>\n",
       "      <td>26870.739859</td>\n",
       "      <td>4.432752e+04</td>\n",
       "      <td>4.435219e+04</td>\n",
       "      <td>1.089982e+07</td>\n",
       "      <td>6.800020e+07</td>\n",
       "      <td>NaN</td>\n",
       "      <td>NaN</td>\n",
       "      <td>1.290994</td>\n",
       "      <td>NaN</td>\n",
       "      <td>NaN</td>\n",
       "      <td>NaN</td>\n",
       "    </tr>\n",
       "    <tr>\n",
       "      <th>min</th>\n",
       "      <td>10145.000000</td>\n",
       "      <td>2.000052e+07</td>\n",
       "      <td>2.000033e+07</td>\n",
       "      <td>-5.882639e+07</td>\n",
       "      <td>0.000000e+00</td>\n",
       "      <td>NaN</td>\n",
       "      <td>NaN</td>\n",
       "      <td>2.000000</td>\n",
       "      <td>NaN</td>\n",
       "      <td>NaN</td>\n",
       "      <td>NaN</td>\n",
       "    </tr>\n",
       "    <tr>\n",
       "      <th>25%</th>\n",
       "      <td>38703.000000</td>\n",
       "      <td>2.005052e+07</td>\n",
       "      <td>2.005033e+07</td>\n",
       "      <td>0.000000e+00</td>\n",
       "      <td>2.474600e+06</td>\n",
       "      <td>NaN</td>\n",
       "      <td>NaN</td>\n",
       "      <td>2.750000</td>\n",
       "      <td>NaN</td>\n",
       "      <td>NaN</td>\n",
       "      <td>NaN</td>\n",
       "    </tr>\n",
       "    <tr>\n",
       "      <th>50%</th>\n",
       "      <td>59176.000000</td>\n",
       "      <td>2.008111e+07</td>\n",
       "      <td>2.008093e+07</td>\n",
       "      <td>0.000000e+00</td>\n",
       "      <td>6.344804e+06</td>\n",
       "      <td>NaN</td>\n",
       "      <td>NaN</td>\n",
       "      <td>3.500000</td>\n",
       "      <td>NaN</td>\n",
       "      <td>NaN</td>\n",
       "      <td>NaN</td>\n",
       "    </tr>\n",
       "    <tr>\n",
       "      <th>75%</th>\n",
       "      <td>82643.000000</td>\n",
       "      <td>2.012081e+07</td>\n",
       "      <td>2.012063e+07</td>\n",
       "      <td>0.000000e+00</td>\n",
       "      <td>2.330730e+07</td>\n",
       "      <td>NaN</td>\n",
       "      <td>NaN</td>\n",
       "      <td>4.250000</td>\n",
       "      <td>NaN</td>\n",
       "      <td>NaN</td>\n",
       "      <td>NaN</td>\n",
       "    </tr>\n",
       "    <tr>\n",
       "      <th>max</th>\n",
       "      <td>93089.000000</td>\n",
       "      <td>2.016022e+07</td>\n",
       "      <td>2.015123e+07</td>\n",
       "      <td>3.256348e+08</td>\n",
       "      <td>4.797043e+08</td>\n",
       "      <td>NaN</td>\n",
       "      <td>NaN</td>\n",
       "      <td>5.000000</td>\n",
       "      <td>NaN</td>\n",
       "      <td>NaN</td>\n",
       "      <td>NaN</td>\n",
       "    </tr>\n",
       "  </tbody>\n",
       "</table>\n",
       "</div>"
      ],
      "text/plain": [
       "             PERMNO     disc_date         fdate        change        shares  \\\n",
       "count   2129.000000  2.129000e+03  2.129000e+03  2.129000e+03  2.129000e+03   \n",
       "mean   56265.484265  2.008397e+07  2.008160e+07  1.010824e+06  3.158856e+07   \n",
       "std    26870.739859  4.432752e+04  4.435219e+04  1.089982e+07  6.800020e+07   \n",
       "min    10145.000000  2.000052e+07  2.000033e+07 -5.882639e+07  0.000000e+00   \n",
       "25%    38703.000000  2.005052e+07  2.005033e+07  0.000000e+00  2.474600e+06   \n",
       "50%    59176.000000  2.008111e+07  2.008093e+07  0.000000e+00  6.344804e+06   \n",
       "75%    82643.000000  2.012081e+07  2.012063e+07  0.000000e+00  2.330730e+07   \n",
       "max    93089.000000  2.016022e+07  2.015123e+07  3.256348e+08  4.797043e+08   \n",
       "\n",
       "       category  Unnamed: 6         1  Unnamed: 9  Unnamed: 10  Unnamed: 11  \n",
       "count       0.0         0.0  4.000000         0.0          0.0          0.0  \n",
       "mean        NaN         NaN  3.500000         NaN          NaN          NaN  \n",
       "std         NaN         NaN  1.290994         NaN          NaN          NaN  \n",
       "min         NaN         NaN  2.000000         NaN          NaN          NaN  \n",
       "25%         NaN         NaN  2.750000         NaN          NaN          NaN  \n",
       "50%         NaN         NaN  3.500000         NaN          NaN          NaN  \n",
       "75%         NaN         NaN  4.250000         NaN          NaN          NaN  \n",
       "max         NaN         NaN  5.000000         NaN          NaN          NaN  "
      ]
     },
     "execution_count": 4,
     "metadata": {},
     "output_type": "execute_result"
    }
   ],
   "source": [
    "berkshire.describe()"
   ]
  },
  {
   "cell_type": "code",
   "execution_count": 8,
   "metadata": {
    "collapsed": false
   },
   "outputs": [
    {
     "data": {
      "text/plain": [
       "Index([u'PERMNO', u'disc_date', u'fdate', u'change', u'shares', u'category',\n",
       "       u'Unnamed: 6', u'1',\n",
       "       u'new position: did not hold position in previous quarter ',\n",
       "       u'Unnamed: 9', u'Unnamed: 10', u'Unnamed: 11'],\n",
       "      dtype='object')"
      ]
     },
     "execution_count": 8,
     "metadata": {},
     "output_type": "execute_result"
    }
   ],
   "source": [
    "berkshire.columns"
   ]
  },
  {
   "cell_type": "code",
   "execution_count": 17,
   "metadata": {
    "collapsed": false
   },
   "outputs": [],
   "source": [
    "berkshire.drop(['category','Unnamed: 6'], axis=1,inplace=True)"
   ]
  },
  {
   "cell_type": "code",
   "execution_count": 18,
   "metadata": {
    "collapsed": false
   },
   "outputs": [
    {
     "data": {
      "text/html": [
       "<div>\n",
       "<table border=\"1\" class=\"dataframe\">\n",
       "  <thead>\n",
       "    <tr style=\"text-align: right;\">\n",
       "      <th></th>\n",
       "      <th>PERMNO</th>\n",
       "      <th>disc_date</th>\n",
       "      <th>fdate</th>\n",
       "      <th>change</th>\n",
       "      <th>shares</th>\n",
       "      <th>1</th>\n",
       "      <th>new position: did not hold position in previous quarter</th>\n",
       "      <th>Unnamed: 9</th>\n",
       "      <th>Unnamed: 10</th>\n",
       "      <th>Unnamed: 11</th>\n",
       "    </tr>\n",
       "  </thead>\n",
       "  <tbody>\n",
       "    <tr>\n",
       "      <th>0</th>\n",
       "      <td>11308.0</td>\n",
       "      <td>20000515.0</td>\n",
       "      <td>20000331.0</td>\n",
       "      <td>0.0</td>\n",
       "      <td>200000000.0</td>\n",
       "      <td>2.0</td>\n",
       "      <td>increase: held position in previous quarter an...</td>\n",
       "      <td>NaN</td>\n",
       "      <td>NaN</td>\n",
       "      <td>NaN</td>\n",
       "    </tr>\n",
       "    <tr>\n",
       "      <th>1</th>\n",
       "      <td>12036.0</td>\n",
       "      <td>20000515.0</td>\n",
       "      <td>20000331.0</td>\n",
       "      <td>4706200.0</td>\n",
       "      <td>7340700.0</td>\n",
       "      <td>3.0</td>\n",
       "      <td>no change: did not change position</td>\n",
       "      <td>NaN</td>\n",
       "      <td>NaN</td>\n",
       "      <td>NaN</td>\n",
       "    </tr>\n",
       "    <tr>\n",
       "      <th>2</th>\n",
       "      <td>16424.0</td>\n",
       "      <td>20000515.0</td>\n",
       "      <td>20000331.0</td>\n",
       "      <td>0.0</td>\n",
       "      <td>96000000.0</td>\n",
       "      <td>4.0</td>\n",
       "      <td>decrease: decreased position, but still mainta...</td>\n",
       "      <td>NaN</td>\n",
       "      <td>NaN</td>\n",
       "      <td>NaN</td>\n",
       "    </tr>\n",
       "    <tr>\n",
       "      <th>3</th>\n",
       "      <td>32379.0</td>\n",
       "      <td>20000515.0</td>\n",
       "      <td>20000331.0</td>\n",
       "      <td>2222500.0</td>\n",
       "      <td>6480700.0</td>\n",
       "      <td>5.0</td>\n",
       "      <td>liquidation: sold all holdings in security</td>\n",
       "      <td>NaN</td>\n",
       "      <td>NaN</td>\n",
       "      <td>NaN</td>\n",
       "    </tr>\n",
       "    <tr>\n",
       "      <th>4</th>\n",
       "      <td>38906.0</td>\n",
       "      <td>20000515.0</td>\n",
       "      <td>20000331.0</td>\n",
       "      <td>0.0</td>\n",
       "      <td>5703087.0</td>\n",
       "      <td>NaN</td>\n",
       "      <td>NaN</td>\n",
       "      <td>NaN</td>\n",
       "      <td>NaN</td>\n",
       "      <td>NaN</td>\n",
       "    </tr>\n",
       "  </tbody>\n",
       "</table>\n",
       "</div>"
      ],
      "text/plain": [
       "    PERMNO   disc_date       fdate     change       shares    1  \\\n",
       "0  11308.0  20000515.0  20000331.0        0.0  200000000.0  2.0   \n",
       "1  12036.0  20000515.0  20000331.0  4706200.0    7340700.0  3.0   \n",
       "2  16424.0  20000515.0  20000331.0        0.0   96000000.0  4.0   \n",
       "3  32379.0  20000515.0  20000331.0  2222500.0    6480700.0  5.0   \n",
       "4  38906.0  20000515.0  20000331.0        0.0    5703087.0  NaN   \n",
       "\n",
       "  new position: did not hold position in previous quarter   Unnamed: 9  \\\n",
       "0  increase: held position in previous quarter an...               NaN   \n",
       "1                 no change: did not change position               NaN   \n",
       "2  decrease: decreased position, but still mainta...               NaN   \n",
       "3         liquidation: sold all holdings in security               NaN   \n",
       "4                                                NaN               NaN   \n",
       "\n",
       "   Unnamed: 10  Unnamed: 11  \n",
       "0          NaN          NaN  \n",
       "1          NaN          NaN  \n",
       "2          NaN          NaN  \n",
       "3          NaN          NaN  \n",
       "4          NaN          NaN  "
      ]
     },
     "execution_count": 18,
     "metadata": {},
     "output_type": "execute_result"
    }
   ],
   "source": [
    "berkshire.head()"
   ]
  },
  {
   "cell_type": "code",
   "execution_count": 20,
   "metadata": {
    "collapsed": true
   },
   "outputs": [],
   "source": [
    "berkshire.drop(['Unnamed: 9','Unnamed: 10','Unnamed: 11'], axis=1,inplace=True)"
   ]
  },
  {
   "cell_type": "code",
   "execution_count": 21,
   "metadata": {
    "collapsed": false
   },
   "outputs": [
    {
     "data": {
      "text/html": [
       "<div>\n",
       "<table border=\"1\" class=\"dataframe\">\n",
       "  <thead>\n",
       "    <tr style=\"text-align: right;\">\n",
       "      <th></th>\n",
       "      <th>PERMNO</th>\n",
       "      <th>disc_date</th>\n",
       "      <th>fdate</th>\n",
       "      <th>change</th>\n",
       "      <th>shares</th>\n",
       "      <th>1</th>\n",
       "      <th>new position: did not hold position in previous quarter</th>\n",
       "    </tr>\n",
       "  </thead>\n",
       "  <tbody>\n",
       "    <tr>\n",
       "      <th>0</th>\n",
       "      <td>11308.0</td>\n",
       "      <td>20000515.0</td>\n",
       "      <td>20000331.0</td>\n",
       "      <td>0.0</td>\n",
       "      <td>200000000.0</td>\n",
       "      <td>2.0</td>\n",
       "      <td>increase: held position in previous quarter an...</td>\n",
       "    </tr>\n",
       "    <tr>\n",
       "      <th>1</th>\n",
       "      <td>12036.0</td>\n",
       "      <td>20000515.0</td>\n",
       "      <td>20000331.0</td>\n",
       "      <td>4706200.0</td>\n",
       "      <td>7340700.0</td>\n",
       "      <td>3.0</td>\n",
       "      <td>no change: did not change position</td>\n",
       "    </tr>\n",
       "    <tr>\n",
       "      <th>2</th>\n",
       "      <td>16424.0</td>\n",
       "      <td>20000515.0</td>\n",
       "      <td>20000331.0</td>\n",
       "      <td>0.0</td>\n",
       "      <td>96000000.0</td>\n",
       "      <td>4.0</td>\n",
       "      <td>decrease: decreased position, but still mainta...</td>\n",
       "    </tr>\n",
       "    <tr>\n",
       "      <th>3</th>\n",
       "      <td>32379.0</td>\n",
       "      <td>20000515.0</td>\n",
       "      <td>20000331.0</td>\n",
       "      <td>2222500.0</td>\n",
       "      <td>6480700.0</td>\n",
       "      <td>5.0</td>\n",
       "      <td>liquidation: sold all holdings in security</td>\n",
       "    </tr>\n",
       "    <tr>\n",
       "      <th>4</th>\n",
       "      <td>38906.0</td>\n",
       "      <td>20000515.0</td>\n",
       "      <td>20000331.0</td>\n",
       "      <td>0.0</td>\n",
       "      <td>5703087.0</td>\n",
       "      <td>NaN</td>\n",
       "      <td>NaN</td>\n",
       "    </tr>\n",
       "  </tbody>\n",
       "</table>\n",
       "</div>"
      ],
      "text/plain": [
       "    PERMNO   disc_date       fdate     change       shares    1  \\\n",
       "0  11308.0  20000515.0  20000331.0        0.0  200000000.0  2.0   \n",
       "1  12036.0  20000515.0  20000331.0  4706200.0    7340700.0  3.0   \n",
       "2  16424.0  20000515.0  20000331.0        0.0   96000000.0  4.0   \n",
       "3  32379.0  20000515.0  20000331.0  2222500.0    6480700.0  5.0   \n",
       "4  38906.0  20000515.0  20000331.0        0.0    5703087.0  NaN   \n",
       "\n",
       "  new position: did not hold position in previous quarter   \n",
       "0  increase: held position in previous quarter an...        \n",
       "1                 no change: did not change position        \n",
       "2  decrease: decreased position, but still mainta...        \n",
       "3         liquidation: sold all holdings in security        \n",
       "4                                                NaN        "
      ]
     },
     "execution_count": 21,
     "metadata": {},
     "output_type": "execute_result"
    }
   ],
   "source": [
    "berkshire.head()"
   ]
  },
  {
   "cell_type": "code",
   "execution_count": 23,
   "metadata": {
    "collapsed": false
   },
   "outputs": [
    {
     "data": {
      "text/plain": [
       "PERMNO                                                      float64\n",
       "disc_date                                                   float64\n",
       "fdate                                                       float64\n",
       "change                                                      float64\n",
       "shares                                                      float64\n",
       "1                                                           float64\n",
       "new position: did not hold position in previous quarter      object\n",
       "dtype: object"
      ]
     },
     "execution_count": 23,
     "metadata": {},
     "output_type": "execute_result"
    }
   ],
   "source": [
    "berkshire.dtypes"
   ]
  },
  {
   "cell_type": "code",
   "execution_count": 25,
   "metadata": {
    "collapsed": false
   },
   "outputs": [],
   "source": [
    "berkshire['disc_date'] = pd.to_datetime(berkshire['disc_date'])"
   ]
  },
  {
   "cell_type": "code",
   "execution_count": 26,
   "metadata": {
    "collapsed": false
   },
   "outputs": [
    {
     "data": {
      "text/plain": [
       "PERMNO                                                             float64\n",
       "disc_date                                                   datetime64[ns]\n",
       "fdate                                                              float64\n",
       "change                                                             float64\n",
       "shares                                                             float64\n",
       "1                                                                  float64\n",
       "new position: did not hold position in previous quarter             object\n",
       "dtype: object"
      ]
     },
     "execution_count": 26,
     "metadata": {},
     "output_type": "execute_result"
    }
   ],
   "source": [
    "berkshire.dtypes"
   ]
  },
  {
   "cell_type": "code",
   "execution_count": 28,
   "metadata": {
    "collapsed": false
   },
   "outputs": [
    {
     "data": {
      "text/html": [
       "<div>\n",
       "<table border=\"1\" class=\"dataframe\">\n",
       "  <thead>\n",
       "    <tr style=\"text-align: right;\">\n",
       "      <th></th>\n",
       "      <th>PERMNO</th>\n",
       "      <th>disc_date</th>\n",
       "      <th>fdate</th>\n",
       "      <th>change</th>\n",
       "      <th>shares</th>\n",
       "      <th>1</th>\n",
       "      <th>new position: did not hold position in previous quarter</th>\n",
       "    </tr>\n",
       "  </thead>\n",
       "  <tbody>\n",
       "    <tr>\n",
       "      <th>0</th>\n",
       "      <td>11308.0</td>\n",
       "      <td>1970-01-01 00:00:00.020000515</td>\n",
       "      <td>20000331.0</td>\n",
       "      <td>0.0</td>\n",
       "      <td>200000000.0</td>\n",
       "      <td>2.0</td>\n",
       "      <td>increase: held position in previous quarter an...</td>\n",
       "    </tr>\n",
       "    <tr>\n",
       "      <th>1</th>\n",
       "      <td>12036.0</td>\n",
       "      <td>1970-01-01 00:00:00.020000515</td>\n",
       "      <td>20000331.0</td>\n",
       "      <td>4706200.0</td>\n",
       "      <td>7340700.0</td>\n",
       "      <td>3.0</td>\n",
       "      <td>no change: did not change position</td>\n",
       "    </tr>\n",
       "    <tr>\n",
       "      <th>2</th>\n",
       "      <td>16424.0</td>\n",
       "      <td>1970-01-01 00:00:00.020000515</td>\n",
       "      <td>20000331.0</td>\n",
       "      <td>0.0</td>\n",
       "      <td>96000000.0</td>\n",
       "      <td>4.0</td>\n",
       "      <td>decrease: decreased position, but still mainta...</td>\n",
       "    </tr>\n",
       "    <tr>\n",
       "      <th>3</th>\n",
       "      <td>32379.0</td>\n",
       "      <td>1970-01-01 00:00:00.020000515</td>\n",
       "      <td>20000331.0</td>\n",
       "      <td>2222500.0</td>\n",
       "      <td>6480700.0</td>\n",
       "      <td>5.0</td>\n",
       "      <td>liquidation: sold all holdings in security</td>\n",
       "    </tr>\n",
       "    <tr>\n",
       "      <th>4</th>\n",
       "      <td>38906.0</td>\n",
       "      <td>1970-01-01 00:00:00.020000515</td>\n",
       "      <td>20000331.0</td>\n",
       "      <td>0.0</td>\n",
       "      <td>5703087.0</td>\n",
       "      <td>NaN</td>\n",
       "      <td>NaN</td>\n",
       "    </tr>\n",
       "  </tbody>\n",
       "</table>\n",
       "</div>"
      ],
      "text/plain": [
       "    PERMNO                     disc_date       fdate     change       shares  \\\n",
       "0  11308.0 1970-01-01 00:00:00.020000515  20000331.0        0.0  200000000.0   \n",
       "1  12036.0 1970-01-01 00:00:00.020000515  20000331.0  4706200.0    7340700.0   \n",
       "2  16424.0 1970-01-01 00:00:00.020000515  20000331.0        0.0   96000000.0   \n",
       "3  32379.0 1970-01-01 00:00:00.020000515  20000331.0  2222500.0    6480700.0   \n",
       "4  38906.0 1970-01-01 00:00:00.020000515  20000331.0        0.0    5703087.0   \n",
       "\n",
       "     1 new position: did not hold position in previous quarter   \n",
       "0  2.0  increase: held position in previous quarter an...        \n",
       "1  3.0                 no change: did not change position        \n",
       "2  4.0  decrease: decreased position, but still mainta...        \n",
       "3  5.0         liquidation: sold all holdings in security        \n",
       "4  NaN                                                NaN        "
      ]
     },
     "execution_count": 28,
     "metadata": {},
     "output_type": "execute_result"
    }
   ],
   "source": [
    "berkshire.head()"
   ]
  },
  {
   "cell_type": "code",
   "execution_count": 30,
   "metadata": {
    "collapsed": false
   },
   "outputs": [
    {
     "data": {
      "image/png": "[encoded data removed]",
      "text/plain": [
       "<matplotlib.figure.Figure at 0x10c2b2f10>"
      ]
     },
     "metadata": {},
     "output_type": "display_data"
    }
   ],
   "source": [
    "berkshire['change'].plot()\n",
    "plt.legend()\n",
    "plt.show()"
   ]
  },
  {
   "cell_type": "code",
   "execution_count": 31,
   "metadata": {
    "collapsed": false
   },
   "outputs": [
    {
     "data": {
      "image/png": "[encoded data removed]",
      "text/plain": [
       "<matplotlib.figure.Figure at 0x10c45e410>"
      ]
     },
     "metadata": {},
     "output_type": "display_data"
    }
   ],
   "source": [
    "berkshire['shares'].plot()\n",
    "plt.legend()\n",
    "plt.show()"
   ]
  },
  {
   "cell_type": "code",
   "execution_count": null,
   "metadata": {
    "collapsed": true
   },
   "outputs": [],
   "source": []
  }
 ],
 "metadata": {
  "kernelspec": {
   "display_name": "Python 2",
   "language": "python",
   "name": "python2"
  },
  "language_info": {
   "codemirror_mode": {
    "name": "ipython",
    "version": 2
   },
   "file_extension": ".py",
   "mimetype": "text/x-python",
   "name": "python",
   "nbconvert_exporter": "python",
   "pygments_lexer": "ipython2",
   "version": "2.7.10"
  }
 },
 "nbformat": 4,
 "nbformat_minor": 2
}
